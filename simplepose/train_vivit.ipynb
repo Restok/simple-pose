{
 "cells": [
  {
   "cell_type": "code",
   "execution_count": 1,
   "metadata": {},
   "outputs": [],
   "source": [
    "from transformers import VivitConfig\n",
    "\n",
    "from model.vivit import VivitPose\n",
    "from preprocess_data import get_video_datasets, getSMPLXParams\n",
    "from torch.utils.data import DataLoader\n",
    "from euler_to_rot import euler_to_rotation_matrix_zyz_tensor\n",
    "import torch\n",
    "import time\n",
    "device = 'cuda'\n",
    "configuration = VivitConfig()\n",
    "vivit_num_frames = 3\n",
    "configuration.num_labels = 69\n",
    "configuration.num_frames=vivit_num_frames\n",
    "model = VivitPose(configuration).to(device)\n",
    "train_data, test_data = get_video_datasets(slice_len=vivit_num_frames)\n",
    "train_loader = DataLoader(train_data, batch_size=10, shuffle=True)\n"
   ]
  },
  {
   "cell_type": "code",
   "execution_count": 2,
   "metadata": {},
   "outputs": [],
   "source": [
    "#clear gc, cuda cache\n",
    "import gc\n",
    "gc.collect()\n",
    "torch.cuda.empty_cache()"
   ]
  },
  {
   "cell_type": "code",
   "execution_count": 3,
   "metadata": {},
   "outputs": [
    {
     "name": "stdout",
     "output_type": "stream",
     "text": [
      "Epoch: 0, Iteration: 0/122857, Loss: 0.225386\n",
      "Time elapsed: 0 seconds\n",
      "Estimated time remaining for epoch: 621 seconds\n",
      "Epoch: 0, Iteration: 10/122857, Loss: 0.063345\n",
      "Epoch: 0, Iteration: 20/122857, Loss: 0.047326\n",
      "Epoch: 0, Iteration: 30/122857, Loss: 0.055381\n",
      "Epoch: 0, Iteration: 40/122857, Loss: 0.048625\n",
      "Epoch: 0, Iteration: 50/122857, Loss: 0.031556\n",
      "Epoch: 0, Iteration: 60/122857, Loss: 0.063781\n",
      "Epoch: 0, Iteration: 70/122857, Loss: 0.044184\n",
      "Epoch: 0, Iteration: 80/122857, Loss: 0.044803\n",
      "Epoch: 0, Iteration: 90/122857, Loss: 0.030572\n",
      "Epoch: 0, Iteration: 100/122857, Loss: 0.047886\n",
      "Time elapsed: 17 seconds\n",
      "Estimated time remaining for epoch: 21217 seconds\n",
      "Epoch: 0, Iteration: 110/122857, Loss: 0.044007\n",
      "Epoch: 0, Iteration: 120/122857, Loss: 0.050441\n",
      "Epoch: 0, Iteration: 130/122857, Loss: 0.049348\n",
      "Epoch: 0, Iteration: 140/122857, Loss: 0.038448\n",
      "Epoch: 0, Iteration: 150/122857, Loss: 0.055801\n",
      "Epoch: 0, Iteration: 160/122857, Loss: 0.040762\n",
      "Epoch: 0, Iteration: 170/122857, Loss: 0.034749\n",
      "Epoch: 0, Iteration: 180/122857, Loss: 0.053559\n",
      "Epoch: 0, Iteration: 190/122857, Loss: 0.035050\n",
      "Epoch: 0, Iteration: 200/122857, Loss: 0.040819\n",
      "Time elapsed: 16 seconds\n",
      "Estimated time remaining for epoch: 20643 seconds\n",
      "Epoch: 0, Iteration: 210/122857, Loss: 0.043519\n",
      "Epoch: 0, Iteration: 220/122857, Loss: 0.053684\n",
      "Epoch: 0, Iteration: 230/122857, Loss: 0.048710\n"
     ]
    }
   ],
   "source": [
    "history = []\n",
    "criterion = torch.nn.MSELoss()\n",
    "optimizer = torch.optim.Adam(model.parameters(), lr=0.0001)\n",
    "model.train()\n",
    "epochs = 3\n",
    "start_time = time.time()\n",
    "last_time = time.time()\n",
    "len_iter = len(train_loader)\n",
    "checkpoint_dir = 'checkpoints'\n",
    "for epoch in range(epochs):\n",
    "    for i, v in enumerate(train_loader):\n",
    "        # cur = time.time()\n",
    "        frames, labels, _ = v\n",
    "        frames = frames.to(device)\n",
    "        labels = labels.to(device)\n",
    "        #print('Time for data transfer: %d seconds' % (time.time() - cur))\n",
    "        optimizer.zero_grad()\n",
    "        # cur = time.time()\n",
    "        outputs = model(frames)\n",
    "        batch_size = outputs.shape[0]\n",
    "        global_orient, body_pose, transl = getSMPLXParams(outputs)\n",
    "        global_orient = euler_to_rotation_matrix_zyz_tensor(global_orient)\n",
    "        body_pose = euler_to_rotation_matrix_zyz_tensor(body_pose)\n",
    "        global_orient = global_orient.reshape(batch_size, -1)\n",
    "        body_pose = body_pose.reshape(batch_size, -1)\n",
    "        outputs_rot = torch.cat((global_orient, body_pose, transl), dim=1)\n",
    "        #print('Time for forward pass: %d seconds' % (time.time() - cur))\n",
    "        # cur = time.time()\n",
    "        loss = criterion(outputs_rot, labels)\n",
    "        loss.backward()\n",
    "        # print('Time for backward pass: %d seconds' % (time.time() - cur))\n",
    "        # cur = time.time()\n",
    "        optimizer.step()\n",
    "        # print('Time for optimizer step: %d seconds' % (time.time() - cur))\n",
    "        if i % 10 == 0:\n",
    "            print('Epoch: %d, Iteration: %d/%d, Loss: %f' % (epoch, i,len_iter, loss.item()))\n",
    "            history.append(loss.item())\n",
    "        if i % 100 == 0:\n",
    "            time_elapsed = time.time() - last_time\n",
    "            print('Time elapsed: %d seconds' % time_elapsed)\n",
    "            last_time = time.time()\n",
    "            #estimate time remaining\n",
    "            time_remaining = time_elapsed * (len_iter - i)/100\n",
    "            print('Estimated time remaining for epoch: %d seconds' % time_remaining)\n",
    "        if i % 2000 == 0: # vivit_epoch_iteration_rot_MSE.pth\n",
    "            torch.save(model.state_dict(), '%s/vivit_epoch_%d_iteration_%d_rot_MSE.pth' % (checkpoint_dir, epoch, i))"
   ]
  }
 ],
 "metadata": {
  "kernelspec": {
   "display_name": "mldl",
   "language": "python",
   "name": "python3"
  },
  "language_info": {
   "codemirror_mode": {
    "name": "ipython",
    "version": 3
   },
   "file_extension": ".py",
   "mimetype": "text/x-python",
   "name": "python",
   "nbconvert_exporter": "python",
   "pygments_lexer": "ipython3",
   "version": "3.8.18"
  }
 },
 "nbformat": 4,
 "nbformat_minor": 2
}
